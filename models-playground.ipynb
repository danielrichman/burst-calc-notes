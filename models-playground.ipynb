{
 "metadata": {
  "name": "",
  "signature": "sha256:ce0ed268e354a2da5f6b3ee3f9fb5f17c8904b2ed7ade172f01f6bcfe1fa95d8"
 },
 "nbformat": 3,
 "nbformat_minor": 0,
 "worksheets": [
  {
   "cells": [
    {
     "cell_type": "code",
     "collapsed": false,
     "input": [
      "import math\n",
      "\n",
      "def simplemodel(alt):\n",
      "    temp = pressure = 0.0\n",
      "    if alt > 25000:\n",
      "        temp = -131.21 + 0.00299 * alt\n",
      "        pressure = 2.488 * ((temp + 273.1)/(216.6)) ** (-11.388)\n",
      "    elif 11000 < alt <= 25000:\n",
      "        temp = -56.46\n",
      "        pressure = 22.65 * math.exp(1.73 - 0.000157 * alt)\n",
      "    else:\n",
      "        temp = 15.04 - 0.00649 * alt\n",
      "        pressure = 101.29 * ((temp + 273.1)/288.08) ** (5.256)\n",
      "        \n",
      "    density = pressure / (0.2869*(temp + 273.1))\n",
      "\n",
      "    return temp, pressure, density"
     ],
     "language": "python",
     "metadata": {},
     "outputs": [],
     "prompt_number": 1
    },
    {
     "cell_type": "code",
     "collapsed": false,
     "input": [
      "import bisect\n",
      "import math\n",
      "import collections\n",
      "\n",
      "# translated from C at http://www.pdas.com/atmosdownload.html\n",
      "\n",
      "FT2METERS       = 0.3048           # mult. ft. to get meters (exact)\n",
      "KELVIN2RANKINE  = 1.8              # mult deg K to get deg R\n",
      "PSF2NSM         = 47.880258        # mult lb/sq.ft to get N/sq.m\n",
      "SCF2KCM         = 515.379          # mult slugs/cu.ft to get kg/cu.m\n",
      "TZERO           = 288.15           # sea-level temperature, kelvins\n",
      "PZERO           = 101325.0         # sea-level pressure, N/sq.m\n",
      "RHOZERO         = 1.225            # sea-level density, kg/cu.m\n",
      "AZERO           = 340.294          # speed of sound at S.L. m/sec\n",
      "BETAVISC        = 1.458E-6         # viscosity constant\n",
      "SUTH            = 110.4            # Sutherland's constant, kelvins\n",
      "REARTH          = 6369.0           # Radius of the Earth\n",
      "GMR             = 34.163195        # Gas constant\n",
      "\n",
      "htab = [0.0, 11.0, 20.0, 32.0, 47.0, 51.0, 71.0, 84.852]\n",
      "ttab = [288.15, 216.65, 216.65, 228.65, 270.65, 270.65, 214.65, 186.946]\n",
      "ptab = [1.0, 2.2336110E-1, 5.4032950E-2, 8.5666784E-3, 1.0945601E-3, 6.6063531E-4, 3.9046834E-5, 3.68501E-6]\n",
      "gtab = [-6.5, 0, 1.0, 2.8, 0, -2.8, -2.0, 0]\n",
      "\n",
      "AtmosphereResult = collections.namedtuple(\n",
      "    \"AtmosphereResult\", [\"alt\", \"sigma\", \"delta\", \"theta\",\n",
      "                         \"temp\", \"pressure\", \"density\",\n",
      "                         \"asound\", \"viscosity\", \"kinematicViscosity\"]\n",
      ")\n",
      "\n",
      "def atmosphere(alt):\n",
      "    \"\"\"\n",
      "    alt: in Km\n",
      "    \"\"\"\n",
      "    h = alt * REARTH / (alt + REARTH)    # geometric to geopotential altitude\n",
      "\n",
      "    # TODO: don't use bisect\n",
      "    i = bisect.bisect(htab, h)\n",
      "    if i == 0:\n",
      "        assert h <= htab[1]\n",
      "    else:\n",
      "        i -= 1\n",
      "        assert htab[i] <= h <= htab[i+1]\n",
      "\n",
      "    tgrad = gtab[i]\n",
      "    tbase = ttab[i]\n",
      "    deltah = h - htab[i]\n",
      "    tlocal = tbase + tgrad * deltah\n",
      "    \n",
      "    theta = tlocal / ttab[0]      # temperature ratio\n",
      "\n",
      "    if tgrad == 0:                # compute pressure ratio\n",
      "        delta = ptab[i] * math.exp(-GMR * deltah / tbase)\n",
      "    else:\n",
      "        delta = ptab[i] * (tbase / tlocal) ** (GMR / tgrad)\n",
      "    \n",
      "    sigma = delta / theta         # density ratio\n",
      "    \n",
      "    # C: Atmostphere -> sigma, delta, theta\n",
      "\n",
      "    temp = TZERO * theta\n",
      "    pressure = PZERO * delta\n",
      "    density = RHOZERO * sigma\n",
      "    asound = AZERO * math.sqrt(theta)\n",
      "    t = theta * TZERO                                       # temperature in Kelvins\n",
      "    viscosity = BETAVISC * (temp ** (3/2)) / (temp + SUTH)  # viscosity in kg/(m-sec)\n",
      "    kinematicViscosity = viscosity / density\n",
      "\n",
      "    return AtmosphereResult(\n",
      "        alt=alt,\n",
      "        sigma=sigma, delta=delta, theta=theta,\n",
      "        temp=temp, pressure=pressure, density=density, asound=asound,\n",
      "        viscosity=viscosity, kinematicViscosity=kinematicViscosity\n",
      "    )\n",
      "\n",
      "def v(alt):\n",
      "    # r_0 = initial radius\n",
      "    # rho_0 = density at sea level\n",
      "    # m_G = mass of gas\n",
      "    #     = (4/3) * pi * r_0^3 * rho_0\n",
      "\n",
      "    g = 9.80665\n",
      "    density_He = 0.1786\n",
      "    Cd = 0.25\n",
      "    \n",
      "    V_0 = 1.83\n",
      "    m_B = 0.5\n",
      "    m_P = 0.5\n",
      "\n",
      "    m_G = V_0 * density_He\n",
      "    m = m_B + m_P + m_G\n",
      "    m_A0 = V_0 * atmosphere(0).density\n",
      "\n",
      "    a = atmosphere(alt)\n",
      "    r = (3 * m_A0 / (4 * a.density * math.pi))**(1/3)\n",
      "    V = (4/3) * math.pi * r ** 3\n",
      "    #v = (a.density * V * g - m * g) / (6 * math.pi * a.viscosity * r)\n",
      "    #return v\n",
      "\n",
      "    a = atmosphere(alt)\n",
      "    A = math.pi * r ** 2\n",
      "    v2 = (a.density * V * g - m * g)/((1/2) * a.density * Cd * A)\n",
      "    v = v2 ** 0.5\n",
      "    #return v\n",
      "    return (1/2) * a.density * Cd * A * v2"
     ],
     "language": "python",
     "metadata": {},
     "outputs": [],
     "prompt_number": 139
    },
    {
     "cell_type": "code",
     "collapsed": false,
     "input": [
      "atmosphere(20).viscosity"
     ],
     "language": "python",
     "metadata": {},
     "outputs": [
      {
       "metadata": {},
       "output_type": "pyout",
       "prompt_number": 124,
       "text": [
        "1.4216130796413357e-05"
       ]
      }
     ],
     "prompt_number": 124
    },
    {
     "cell_type": "code",
     "collapsed": false,
     "input": [
      "import numpy as np\n",
      "from matplotlib import pyplot as plt\n",
      "alts = np.linspace(0, 70, 1000)\n",
      "atmoses = [atmosphere(km) for km in alts]\n",
      "ps = [a.pressure for a in atmoses]\n",
      "ts = [a.temp for a in atmoses]\n",
      "ds = [a.density for a in atmoses]\n",
      "vs = [v(a) for a in alts]\n",
      "\n",
      "simples = [simplemodel(km*1000) for km in alts]\n",
      "ts2 = [t for t, _, _ in simples]\n",
      "ps2 = [p for _, p, _ in simples]\n",
      "ds2 = [d for _, _, d in simples]"
     ],
     "language": "python",
     "metadata": {},
     "outputs": [],
     "prompt_number": 146
    },
    {
     "cell_type": "code",
     "collapsed": false,
     "input": [
      "plt.plot(alts, ps)\n",
      "plt.plot(alts, np.array(ps2) * 1000)\n",
      "plt.show()\n",
      "plt.plot(alts, ts)\n",
      "plt.plot(alts, np.array(ts2) + 273.13)\n",
      "plt.show()\n",
      "plt.plot(alts, ds)\n",
      "plt.plot(alts, ds2)\n",
      "plt.show()\n",
      "plt.plot(alts, vs)\n",
      "plt.show()\n"
     ],
     "language": "python",
     "metadata": {},
     "outputs": [
      {
       "metadata": {},
       "output_type": "display_data",
       "png": "[encoded data removed]",
       "text": [
        "<matplotlib.figure.Figure at 0x7fe35a5068d0>"
       ]
      },
      {
       "metadata": {},
       "output_type": "display_data",
       "png": "[encoded data removed]",
       "text": [
        "<matplotlib.figure.Figure at 0x7fe35a84efd0>"
       ]
      },
      {
       "metadata": {},
       "output_type": "display_data",
       "png": "[encoded data removed]",
       "text": [
        "<matplotlib.figure.Figure at 0x7fe35a528b00>"
       ]
      },
      {
       "metadata": {},
       "output_type": "display_data",
       "png": "[encoded data removed]",
       "text": [
        "<matplotlib.figure.Figure at 0x7fe35a565080>"
       ]
      }
     ],
     "prompt_number": 147
    },
    {
     "cell_type": "code",
     "collapsed": false,
     "input": [
      "ps[0], ps2[0]"
     ],
     "language": "python",
     "metadata": {},
     "outputs": [
      {
       "metadata": {},
       "output_type": "pyout",
       "prompt_number": 144,
       "text": [
        "(101325.0, 101.40093090454886)"
       ]
      }
     ],
     "prompt_number": 144
    },
    {
     "cell_type": "code",
     "collapsed": false,
     "input": [],
     "language": "python",
     "metadata": {},
     "outputs": []
    }
   ],
   "metadata": {}
  }
 ]
}
